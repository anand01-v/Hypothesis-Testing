{
 "cells": [
  {
   "cell_type": "markdown",
   "id": "3cd11db1",
   "metadata": {},
   "source": [
    "### 1Q\n",
    "##### A F&B manager wants to determine whether there is any significant difference in the diameter of the cutlet between two units. A randomly selected sample of cutlets was collected from both units and measured? Analyze the data and draw inferences at 5% significance level. Please state the assumptions and tests that you carried out to check validity of the assumptions."
   ]
  },
  {
   "cell_type": "code",
   "execution_count": 1,
   "id": "8828ba8a",
   "metadata": {
    "ExecuteTime": {
     "end_time": "2023-03-16T20:59:52.814192Z",
     "start_time": "2023-03-16T20:59:52.171610Z"
    }
   },
   "outputs": [
    {
     "data": {
      "text/html": [
       "<div>\n",
       "<style scoped>\n",
       "    .dataframe tbody tr th:only-of-type {\n",
       "        vertical-align: middle;\n",
       "    }\n",
       "\n",
       "    .dataframe tbody tr th {\n",
       "        vertical-align: top;\n",
       "    }\n",
       "\n",
       "    .dataframe thead th {\n",
       "        text-align: right;\n",
       "    }\n",
       "</style>\n",
       "<table border=\"1\" class=\"dataframe\">\n",
       "  <thead>\n",
       "    <tr style=\"text-align: right;\">\n",
       "      <th></th>\n",
       "      <th>Unit A</th>\n",
       "      <th>Unit B</th>\n",
       "    </tr>\n",
       "  </thead>\n",
       "  <tbody>\n",
       "    <tr>\n",
       "      <th>0</th>\n",
       "      <td>6.8090</td>\n",
       "      <td>6.7703</td>\n",
       "    </tr>\n",
       "    <tr>\n",
       "      <th>1</th>\n",
       "      <td>6.4376</td>\n",
       "      <td>7.5093</td>\n",
       "    </tr>\n",
       "    <tr>\n",
       "      <th>2</th>\n",
       "      <td>6.9157</td>\n",
       "      <td>6.7300</td>\n",
       "    </tr>\n",
       "    <tr>\n",
       "      <th>3</th>\n",
       "      <td>7.3012</td>\n",
       "      <td>6.7878</td>\n",
       "    </tr>\n",
       "    <tr>\n",
       "      <th>4</th>\n",
       "      <td>7.4488</td>\n",
       "      <td>7.1522</td>\n",
       "    </tr>\n",
       "  </tbody>\n",
       "</table>\n",
       "</div>"
      ],
      "text/plain": [
       "   Unit A  Unit B\n",
       "0  6.8090  6.7703\n",
       "1  6.4376  7.5093\n",
       "2  6.9157  6.7300\n",
       "3  7.3012  6.7878\n",
       "4  7.4488  7.1522"
      ]
     },
     "execution_count": 1,
     "metadata": {},
     "output_type": "execute_result"
    }
   ],
   "source": [
    "# Importing Libraries and reading the data \n",
    "import pandas as pd\n",
    "from scipy import stats\n",
    "Ctlts=pd.read_csv(\"Cutlets.csv\")\n",
    "Ctlts.head()"
   ]
  },
  {
   "cell_type": "raw",
   "id": "f0bd83d9",
   "metadata": {},
   "source": [
    "Null Hypothesis H0 : u1 = u2\n",
    "Alternate Hypothesis H1 : u1 != u2\n",
    "where u1 = Mean of Unit A\n",
    "      u2 = Mean of Unit B\n",
    "Based on the problem we are using the Two-sample T-test."
   ]
  },
  {
   "cell_type": "code",
   "execution_count": 2,
   "id": "395b2070",
   "metadata": {
    "ExecuteTime": {
     "end_time": "2023-03-16T20:59:52.829867Z",
     "start_time": "2023-03-16T20:59:52.816140Z"
    }
   },
   "outputs": [
    {
     "data": {
      "text/plain": [
       "Ttest_indResult(statistic=0.7228688704678063, pvalue=0.4722394724599501)"
      ]
     },
     "execution_count": 2,
     "metadata": {},
     "output_type": "execute_result"
    }
   ],
   "source": [
    "# To find the statistic and P-value of the data\n",
    "stats.ttest_ind(Ctlts['Unit A'],Ctlts['Unit B'])"
   ]
  },
  {
   "cell_type": "raw",
   "id": "6578e9d7",
   "metadata": {},
   "source": [
    "Significance value = 0.05\n",
    "           P value = 0.47\n",
    "Here,P-value > Significance \n",
    "i.e., 0.4 > 0.05\n",
    "We accept Null Hypothesis.\n",
    "So,there is no significant difference in the diameter of the cutlet between two units."
   ]
  },
  {
   "cell_type": "markdown",
   "id": "df7631aa",
   "metadata": {},
   "source": [
    "### Q2\n",
    "##### A hospital wants to determine whether there is any difference in the average Turn Around Time (TAT) of reports of the laboratories on their preferred list. They collected a random sample and recorded TAT for reports of 4 laboratories. TAT is defined as sample collected to report dispatch. Analyze the data and determine whether there is any difference in average TAT among the different laboratories at 5% significance level."
   ]
  },
  {
   "cell_type": "code",
   "execution_count": 3,
   "id": "288a29be",
   "metadata": {
    "ExecuteTime": {
     "end_time": "2023-03-16T20:59:52.845636Z",
     "start_time": "2023-03-16T20:59:52.830866Z"
    }
   },
   "outputs": [
    {
     "data": {
      "text/html": [
       "<div>\n",
       "<style scoped>\n",
       "    .dataframe tbody tr th:only-of-type {\n",
       "        vertical-align: middle;\n",
       "    }\n",
       "\n",
       "    .dataframe tbody tr th {\n",
       "        vertical-align: top;\n",
       "    }\n",
       "\n",
       "    .dataframe thead th {\n",
       "        text-align: right;\n",
       "    }\n",
       "</style>\n",
       "<table border=\"1\" class=\"dataframe\">\n",
       "  <thead>\n",
       "    <tr style=\"text-align: right;\">\n",
       "      <th></th>\n",
       "      <th>Laboratory 1</th>\n",
       "      <th>Laboratory 2</th>\n",
       "      <th>Laboratory 3</th>\n",
       "      <th>Laboratory 4</th>\n",
       "    </tr>\n",
       "  </thead>\n",
       "  <tbody>\n",
       "    <tr>\n",
       "      <th>0</th>\n",
       "      <td>185.35</td>\n",
       "      <td>165.53</td>\n",
       "      <td>176.70</td>\n",
       "      <td>166.13</td>\n",
       "    </tr>\n",
       "    <tr>\n",
       "      <th>1</th>\n",
       "      <td>170.49</td>\n",
       "      <td>185.91</td>\n",
       "      <td>198.45</td>\n",
       "      <td>160.79</td>\n",
       "    </tr>\n",
       "    <tr>\n",
       "      <th>2</th>\n",
       "      <td>192.77</td>\n",
       "      <td>194.92</td>\n",
       "      <td>201.23</td>\n",
       "      <td>185.18</td>\n",
       "    </tr>\n",
       "    <tr>\n",
       "      <th>3</th>\n",
       "      <td>177.33</td>\n",
       "      <td>183.00</td>\n",
       "      <td>199.61</td>\n",
       "      <td>176.42</td>\n",
       "    </tr>\n",
       "    <tr>\n",
       "      <th>4</th>\n",
       "      <td>193.41</td>\n",
       "      <td>169.57</td>\n",
       "      <td>204.63</td>\n",
       "      <td>152.60</td>\n",
       "    </tr>\n",
       "  </tbody>\n",
       "</table>\n",
       "</div>"
      ],
      "text/plain": [
       "   Laboratory 1  Laboratory 2  Laboratory 3  Laboratory 4\n",
       "0        185.35        165.53        176.70        166.13\n",
       "1        170.49        185.91        198.45        160.79\n",
       "2        192.77        194.92        201.23        185.18\n",
       "3        177.33        183.00        199.61        176.42\n",
       "4        193.41        169.57        204.63        152.60"
      ]
     },
     "execution_count": 3,
     "metadata": {},
     "output_type": "execute_result"
    }
   ],
   "source": [
    "# Importing Libraries and reading the data \n",
    "import pandas as pd\n",
    "from scipy import stats\n",
    "lab=pd.read_csv(\"LabTAT.csv\")\n",
    "lab.head()"
   ]
  },
  {
   "cell_type": "raw",
   "id": "d6896a57",
   "metadata": {},
   "source": [
    "Null Hypothesis H0 : u1 = u2 = u3 = u4\n",
    "Alternate Hypothesis H1 : One of the means is different\n",
    "where u1 = Mean of Laboratory 1\t, u2 = Mean of Laboratory 2,\n",
    "      u3 = Mean of Laboratory 3 , u4 = Mean of Laboratory 4\n",
    "Based on the problem we are using the ANOVA Test (one-way)."
   ]
  },
  {
   "cell_type": "code",
   "execution_count": 4,
   "id": "916beca4",
   "metadata": {
    "ExecuteTime": {
     "end_time": "2023-03-16T20:59:52.860878Z",
     "start_time": "2023-03-16T20:59:52.847640Z"
    }
   },
   "outputs": [
    {
     "data": {
      "text/plain": [
       "F_onewayResult(statistic=118.70421654401437, pvalue=2.1156708949992414e-57)"
      ]
     },
     "execution_count": 4,
     "metadata": {},
     "output_type": "execute_result"
    }
   ],
   "source": [
    "# To find the statistic and P value\n",
    "stats.f_oneway(lab['Laboratory 1'],lab['Laboratory 2'],lab['Laboratory 3'],lab['Laboratory 4'])"
   ]
  },
  {
   "cell_type": "raw",
   "id": "2b66a860",
   "metadata": {},
   "source": [
    "Significance value = 0.05\n",
    "           P value = 2.11\n",
    "Here,P-value > Significance \n",
    "i.e., 2.11 > 0.05\n",
    "We accept Null Hypothesis.\n",
    "So,there is no difference in average TAT among the different laboratories at 5% significance level."
   ]
  },
  {
   "attachments": {
    "WhatsApp%20Image%202023-03-17%20at%2002.14.20.jpg": {
     "image/jpeg": "[encoded data removed]"
    }
   },
   "cell_type": "markdown",
   "id": "2fb5d5b9",
   "metadata": {},
   "source": [
    "### Q3\n",
    "- ![WhatsApp%20Image%202023-03-17%20at%2002.14.20.jpg](attachment:WhatsApp%20Image%202023-03-17%20at%2002.14.20.jpg)"
   ]
  },
  {
   "cell_type": "code",
   "execution_count": 5,
   "id": "fa2d4f19",
   "metadata": {
    "ExecuteTime": {
     "end_time": "2023-03-16T20:59:52.876132Z",
     "start_time": "2023-03-16T20:59:52.862170Z"
    }
   },
   "outputs": [
    {
     "data": {
      "text/html": [
       "<div>\n",
       "<style scoped>\n",
       "    .dataframe tbody tr th:only-of-type {\n",
       "        vertical-align: middle;\n",
       "    }\n",
       "\n",
       "    .dataframe tbody tr th {\n",
       "        vertical-align: top;\n",
       "    }\n",
       "\n",
       "    .dataframe thead th {\n",
       "        text-align: right;\n",
       "    }\n",
       "</style>\n",
       "<table border=\"1\" class=\"dataframe\">\n",
       "  <thead>\n",
       "    <tr style=\"text-align: right;\">\n",
       "      <th></th>\n",
       "      <th>Observed Values</th>\n",
       "      <th>East</th>\n",
       "      <th>West</th>\n",
       "      <th>North</th>\n",
       "      <th>South</th>\n",
       "    </tr>\n",
       "  </thead>\n",
       "  <tbody>\n",
       "    <tr>\n",
       "      <th>0</th>\n",
       "      <td>Males</td>\n",
       "      <td>50</td>\n",
       "      <td>142</td>\n",
       "      <td>131</td>\n",
       "      <td>70</td>\n",
       "    </tr>\n",
       "    <tr>\n",
       "      <th>1</th>\n",
       "      <td>Females</td>\n",
       "      <td>435</td>\n",
       "      <td>1523</td>\n",
       "      <td>1356</td>\n",
       "      <td>750</td>\n",
       "    </tr>\n",
       "  </tbody>\n",
       "</table>\n",
       "</div>"
      ],
      "text/plain": [
       "  Observed Values  East  West  North  South\n",
       "0           Males    50   142    131     70\n",
       "1         Females   435  1523   1356    750"
      ]
     },
     "execution_count": 5,
     "metadata": {},
     "output_type": "execute_result"
    }
   ],
   "source": [
    "# Importing Libraries and reading the data \n",
    "import pandas as pd\n",
    "from scipy import stats\n",
    "B=pd.read_csv(\"BuyerRatio.csv\")\n",
    "B.head()"
   ]
  },
  {
   "cell_type": "raw",
   "id": "229121d3",
   "metadata": {},
   "source": [
    "Null Hypothesis H0 : p1 = p2 = p3 = p4\n",
    "Alternate Hypothesis H1 : One of the proportions is different\n",
    "where p1 = Proportion of East  , p2 = Proportion of West,\n",
    "      p3 = Proportion of North , p4 = Proportion of South\n",
    "Based on the problem we are using the Chi-Square test"
   ]
  },
  {
   "cell_type": "code",
   "execution_count": 6,
   "id": "a1c99d05",
   "metadata": {
    "ExecuteTime": {
     "end_time": "2023-03-16T20:59:52.892174Z",
     "start_time": "2023-03-16T20:59:52.876984Z"
    }
   },
   "outputs": [
    {
     "data": {
      "text/html": [
       "<div>\n",
       "<style scoped>\n",
       "    .dataframe tbody tr th:only-of-type {\n",
       "        vertical-align: middle;\n",
       "    }\n",
       "\n",
       "    .dataframe tbody tr th {\n",
       "        vertical-align: top;\n",
       "    }\n",
       "\n",
       "    .dataframe thead th {\n",
       "        text-align: right;\n",
       "    }\n",
       "</style>\n",
       "<table border=\"1\" class=\"dataframe\">\n",
       "  <thead>\n",
       "    <tr style=\"text-align: right;\">\n",
       "      <th></th>\n",
       "      <th>East</th>\n",
       "      <th>West</th>\n",
       "      <th>North</th>\n",
       "      <th>South</th>\n",
       "    </tr>\n",
       "  </thead>\n",
       "  <tbody>\n",
       "    <tr>\n",
       "      <th>0</th>\n",
       "      <td>50</td>\n",
       "      <td>142</td>\n",
       "      <td>131</td>\n",
       "      <td>70</td>\n",
       "    </tr>\n",
       "    <tr>\n",
       "      <th>1</th>\n",
       "      <td>435</td>\n",
       "      <td>1523</td>\n",
       "      <td>1356</td>\n",
       "      <td>750</td>\n",
       "    </tr>\n",
       "  </tbody>\n",
       "</table>\n",
       "</div>"
      ],
      "text/plain": [
       "   East  West  North  South\n",
       "0    50   142    131     70\n",
       "1   435  1523   1356    750"
      ]
     },
     "execution_count": 6,
     "metadata": {},
     "output_type": "execute_result"
    }
   ],
   "source": [
    "#Removing Strings from the table\n",
    "B_table=B.iloc[:,1:5]\n",
    "B_table"
   ]
  },
  {
   "cell_type": "code",
   "execution_count": 7,
   "id": "ae5094fe",
   "metadata": {
    "ExecuteTime": {
     "end_time": "2023-03-16T20:59:52.907376Z",
     "start_time": "2023-03-16T20:59:52.892824Z"
    }
   },
   "outputs": [
    {
     "data": {
      "text/plain": [
       "(1.595945538661058,\n",
       " 0.6603094907091882,\n",
       " 3,\n",
       " array([[  42.76531299,  146.81287862,  131.11756787,   72.30424052],\n",
       "        [ 442.23468701, 1518.18712138, 1355.88243213,  747.69575948]]))"
      ]
     },
     "execution_count": 7,
     "metadata": {},
     "output_type": "execute_result"
    }
   ],
   "source": [
    "#Finding the statistic value,P value,DF\n",
    "stats.chi2_contingency(B_table)"
   ]
  },
  {
   "cell_type": "raw",
   "id": "d7149d39",
   "metadata": {},
   "source": [
    "Significance value = 0.05\n",
    "           P value = 0.66\n",
    "Here,P-value > Significance \n",
    "i.e., 0.66 > 0.05\n",
    "We accept Null Hypothesis.\n",
    "So,there is no difference in the data at 5% significance level.Male and female are similar."
   ]
  },
  {
   "cell_type": "markdown",
   "id": "846eb358",
   "metadata": {},
   "source": [
    "### Q4\n",
    "##### TeleCall uses 4 centers around the globe to process customer order forms. They audit a certain %  of the customer order forms. Any error in order form renders it defective and has to be reworked before processing.  The manager wants to check whether the defective %  varies by centre. Please analyze the data at 5% significance level and help the manager draw appropriate inferences"
   ]
  },
  {
   "cell_type": "code",
   "execution_count": 8,
   "id": "71e420e5",
   "metadata": {
    "ExecuteTime": {
     "end_time": "2023-03-16T20:59:52.923117Z",
     "start_time": "2023-03-16T20:59:52.909255Z"
    }
   },
   "outputs": [
    {
     "data": {
      "text/html": [
       "<div>\n",
       "<style scoped>\n",
       "    .dataframe tbody tr th:only-of-type {\n",
       "        vertical-align: middle;\n",
       "    }\n",
       "\n",
       "    .dataframe tbody tr th {\n",
       "        vertical-align: top;\n",
       "    }\n",
       "\n",
       "    .dataframe thead th {\n",
       "        text-align: right;\n",
       "    }\n",
       "</style>\n",
       "<table border=\"1\" class=\"dataframe\">\n",
       "  <thead>\n",
       "    <tr style=\"text-align: right;\">\n",
       "      <th></th>\n",
       "      <th>Phillippines</th>\n",
       "      <th>Indonesia</th>\n",
       "      <th>Malta</th>\n",
       "      <th>India</th>\n",
       "    </tr>\n",
       "  </thead>\n",
       "  <tbody>\n",
       "    <tr>\n",
       "      <th>0</th>\n",
       "      <td>Error Free</td>\n",
       "      <td>Error Free</td>\n",
       "      <td>Defective</td>\n",
       "      <td>Error Free</td>\n",
       "    </tr>\n",
       "    <tr>\n",
       "      <th>1</th>\n",
       "      <td>Error Free</td>\n",
       "      <td>Error Free</td>\n",
       "      <td>Error Free</td>\n",
       "      <td>Defective</td>\n",
       "    </tr>\n",
       "    <tr>\n",
       "      <th>2</th>\n",
       "      <td>Error Free</td>\n",
       "      <td>Defective</td>\n",
       "      <td>Defective</td>\n",
       "      <td>Error Free</td>\n",
       "    </tr>\n",
       "    <tr>\n",
       "      <th>3</th>\n",
       "      <td>Error Free</td>\n",
       "      <td>Error Free</td>\n",
       "      <td>Error Free</td>\n",
       "      <td>Error Free</td>\n",
       "    </tr>\n",
       "    <tr>\n",
       "      <th>4</th>\n",
       "      <td>Error Free</td>\n",
       "      <td>Error Free</td>\n",
       "      <td>Defective</td>\n",
       "      <td>Error Free</td>\n",
       "    </tr>\n",
       "  </tbody>\n",
       "</table>\n",
       "</div>"
      ],
      "text/plain": [
       "  Phillippines   Indonesia       Malta       India\n",
       "0   Error Free  Error Free   Defective  Error Free\n",
       "1   Error Free  Error Free  Error Free   Defective\n",
       "2   Error Free   Defective   Defective  Error Free\n",
       "3   Error Free  Error Free  Error Free  Error Free\n",
       "4   Error Free  Error Free   Defective  Error Free"
      ]
     },
     "execution_count": 8,
     "metadata": {},
     "output_type": "execute_result"
    }
   ],
   "source": [
    "# Importing Libraries and reading the data \n",
    "import pandas as pd, numpy as np\n",
    "from scipy import stats\n",
    "C=pd.read_csv(\"Costomer+OrderForm.csv\")\n",
    "C.head()"
   ]
  },
  {
   "cell_type": "raw",
   "id": "38160aca",
   "metadata": {},
   "source": [
    "Null Hypothesis H0 : p1 = p2 = p3 = p4\n",
    "Alternate Hypothesis H1 : One of the proportions is different\n",
    "where p1 = Proportion of Phillippines  , p2 = Proportion of Indonesia,\n",
    "      p3 = Proportion of Malta , p4 = Proportion of India\n",
    "Based on the problem we are using the Chi-Square test"
   ]
  },
  {
   "cell_type": "code",
   "execution_count": 9,
   "id": "6a29a091",
   "metadata": {
    "ExecuteTime": {
     "end_time": "2023-03-16T20:59:52.937945Z",
     "start_time": "2023-03-16T20:59:52.924101Z"
    }
   },
   "outputs": [
    {
     "name": "stdout",
     "output_type": "stream",
     "text": [
      "Error Free    271\n",
      "Defective      29\n",
      "Name: Phillippines, dtype: int64 \n",
      " Error Free    267\n",
      "Defective      33\n",
      "Name: Indonesia, dtype: int64 \n",
      " Error Free    269\n",
      "Defective      31\n",
      "Name: Malta, dtype: int64 \n",
      " Error Free    280\n",
      "Defective      20\n",
      "Name: India, dtype: int64 \n",
      "\n"
     ]
    }
   ],
   "source": [
    "# To get the total count of the values\n",
    "print(C.Phillippines.value_counts(),'\\n',\n",
    "      C.Indonesia.value_counts(),'\\n',\n",
    "      C.Malta.value_counts(),'\\n',\n",
    "      C.India.value_counts(),'\\n')"
   ]
  },
  {
   "cell_type": "code",
   "execution_count": 10,
   "id": "2c44b505",
   "metadata": {
    "ExecuteTime": {
     "end_time": "2023-03-16T20:59:52.953149Z",
     "start_time": "2023-03-16T20:59:52.939852Z"
    }
   },
   "outputs": [
    {
     "data": {
      "text/plain": [
       "array([[271, 267, 269, 280],\n",
       "       [ 29,  33,  31,  20]])"
      ]
     },
     "execution_count": 10,
     "metadata": {},
     "output_type": "execute_result"
    }
   ],
   "source": [
    "# To craete the contingency table\n",
    "T=np.array([[271,267,269,280],[29,33,31,20]])\n",
    "T"
   ]
  },
  {
   "cell_type": "code",
   "execution_count": 11,
   "id": "578629c9",
   "metadata": {
    "ExecuteTime": {
     "end_time": "2023-03-16T20:59:52.968567Z",
     "start_time": "2023-03-16T20:59:52.953655Z"
    }
   },
   "outputs": [
    {
     "data": {
      "text/plain": [
       "(3.858960685820355,\n",
       " 0.2771020991233135,\n",
       " 3,\n",
       " array([[271.75, 271.75, 271.75, 271.75],\n",
       "        [ 28.25,  28.25,  28.25,  28.25]]))"
      ]
     },
     "execution_count": 11,
     "metadata": {},
     "output_type": "execute_result"
    }
   ],
   "source": [
    "# Finding the statistic value,P value,DF\n",
    "stats.chi2_contingency(T)"
   ]
  },
  {
   "cell_type": "raw",
   "id": "c995447d",
   "metadata": {},
   "source": [
    "Significance value = 0.05\n",
    "           P value = 0.27\n",
    "Here,P-value > Significance \n",
    "i.e., 0.27 > 0.05\n",
    "We accept Null Hypothesis.\n",
    "Therefore,the defective % doesn't varies by centre."
   ]
  }
 ],
 "metadata": {
  "kernelspec": {
   "display_name": "Python 3 (ipykernel)",
   "language": "python",
   "name": "python3"
  },
  "language_info": {
   "codemirror_mode": {
    "name": "ipython",
    "version": 3
   },
   "file_extension": ".py",
   "mimetype": "text/x-python",
   "name": "python",
   "nbconvert_exporter": "python",
   "pygments_lexer": "ipython3",
   "version": "3.9.12"
  }
 },
 "nbformat": 4,
 "nbformat_minor": 5
}
